{
 "cells": [
  {
   "cell_type": "markdown",
   "id": "2e877262",
   "metadata": {},
   "source": [
    "### Landing AI Parser"
   ]
  },
  {
   "cell_type": "code",
   "execution_count": 52,
   "id": "f367ec8d",
   "metadata": {},
   "outputs": [],
   "source": [
    "pdf_path = 'data/pizza mizza.pdf'\n",
    "from pdf_parser import pdf_parser_func\n",
    "from llm_engine import generate_content"
   ]
  },
  {
   "cell_type": "code",
   "execution_count": null,
   "id": "aaa95e3a",
   "metadata": {},
   "outputs": [
    {
     "name": "stderr",
     "output_type": "stream",
     "text": [
      "E0000 00:00:1760711105.331985 1555448 alts_credentials.cc:93] ALTS creds ignored. Not running on GCP and untrusted ALTS is not enabled.\n"
     ]
    },
    {
     "data": {
      "text/plain": [
       "\"Based on the provided table, here's the total protein content of the pizza:\\n\\n*   Whole wheat flour: 6g\\n*   Tomato sauce: 2g\\n*   Motal cheese: 12g\\n*   Mozzarella cheese: 10g\\n*   Cooked red beans: 5g\\n*   Chicken breast: 20g\\n*   Spinach: 1g\\n*   Red onion: 0.5g\\n*   Water, olive oil, salt, and oregano & basil: 0g\\n\\nAdding those values together: 6 + 2 + 12 + 10 + 5 + 20 + 1 + 0.5 = **56.5g**\\n\\nTherefore, the pizza contains a total of **56.5 grams of protein**.\\n\""
      ]
     },
     "execution_count": 53,
     "metadata": {},
     "output_type": "execute_result"
    }
   ],
   "source": [
    "parsing_response = pdf_parser_func(pdf_path)\n",
    "prompt= f\"how much protein does this pizza contain in total: {parsing_response}.Justify your answers based only on the text\"\n",
    "result = generate_content(prompt)\n",
    "result"
   ]
  },
  {
   "cell_type": "code",
   "execution_count": 49,
   "id": "dcb88878",
   "metadata": {},
   "outputs": [
    {
     "name": "stdout",
     "output_type": "stream",
     "text": [
      "<a id='e093d7a4-e4b5-4161-b840-bef670140ce2'></a>\n",
      "\n",
      "Pizza \"Mizza\"\n",
      "\n",
      "<a id='5d0a889b-1b1f-47a1-8108-1272a253e06b'></a>\n",
      "\n",
      "O Cooking Instructions\n",
      "\n",
      "1.  **Prepare the dough**: Mix whole wheat flour, water, olive oil, and salt. Knead until smooth and let it rest for 1 hour.\n",
      "2.  **Preheat oven** to 220°C (428°F).\n",
      "3.  **Roll out the dough** into a thin base and place on a baking tray.\n",
      "4.  **Spread tomato sauce** evenly over the base.\n",
      "5.  **Layer toppings**: Start with spinach, beans, chicken, red onion, and sprinkle both Motal and mozzarella cheese.\n",
      "6.  **Season** with oregano and basil.\n",
      "7.  **Bake** for 12-15 minutes until crust is golden and cheese is bubbling.\n",
      "\n",
      "<a id='57d1da43-953c-4c39-aa42-c0aa86772bc1'></a>\n",
      "\n",
      "🍕 Pizza Ingredient Table\n",
      "<table id=\"0-1\">\n",
      "<tr><td id=\"0-2\">Ingredient</td><td id=\"0-3\">Grams</td><td id=\"0-4\">Protein (g)</td></tr>\n",
      "<tr><td id=\"0-5\">Whole wheat flour</td><td id=\"0-6\">150</td><td id=\"0-7\">6</td></tr>\n",
      "<tr><td id=\"0-8\">Water</td><td id=\"0-9\">100</td><td id=\"0-a\">0</td></tr>\n",
      "<tr><td id=\"0-b\">Olive oil</td><td id=\"0-c\">10</td><td id=\"0-d\">0</td></tr>\n",
      "<tr><td id=\"0-e\">Salt</td><td id=\"0-f\">3</td><td id=\"0-g\">0</td></tr>\n",
      "<tr><td id=\"0-h\">Tomato sauce</td><td id=\"0-i\">80</td><td id=\"0-j\">2</td></tr>\n",
      "<tr><td id=\"0-k\">Motal cheese</td><td id=\"0-l\">60</td><td id=\"0-m\">12</td></tr>\n",
      "<tr><td id=\"0-n\">Mozzarella cheese</td><td id=\"0-o\">50</td><td id=\"0-p\">10</td></tr>\n",
      "<tr><td id=\"0-q\">Cooked red beans</td><td id=\"0-r\">70</td><td id=\"0-s\">5</td></tr>\n",
      "<tr><td id=\"0-t\">Chicken breast (grilled, sliced)</td><td id=\"0-u\">80</td><td id=\"0-v\">20</td></tr>\n",
      "<tr><td id=\"0-w\">Spinach (fresh)</td><td id=\"0-x\">30</td><td id=\"0-y\">1</td></tr>\n",
      "<tr><td id=\"0-z\">Red onion (sliced)</td><td id=\"0-A\">20</td><td id=\"0-B\">0.5</td></tr>\n",
      "<tr><td id=\"0-C\">Oregano & basil</td><td id=\"0-D\">5</td><td id=\"0-E\">0</td></tr>\n",
      "</table>\n",
      "\n",
      "<a id='adc37afc-f8b1-451f-acbe-1c5fca3c93b5'></a>\n",
      "\n",
      "Health Notes\n",
      "\n",
      "*   **High in protein**: Thanks to chicken, beans, and Motal cheese, this pizza supports muscle recovery and satiety.\n",
      "*   **Balanced carbs**: Whole wheat flour provides complex carbohydrates and fiber.\n",
      "*   **Healthy fats**: Olive oil and cheese contribute beneficial fats.\n",
      "*   **Micronutrients**: Spinach and onions add vitamins A, C, and antioxidants.\n",
      "\n",
      "<a id='73dc831d-6afd-4602-85de-678ae6248734'></a>\n",
      "\n",
      "The Pizza “Mizza” is great for post-workout meals or anyone aiming to increase protein intake while keeping the pizza delicious and satisfying.\n"
     ]
    }
   ],
   "source": [
    "print(parsing_response)"
   ]
  },
  {
   "cell_type": "markdown",
   "id": "f1fab1ae",
   "metadata": {},
   "source": [
    "### PDFPlumber"
   ]
  },
  {
   "cell_type": "code",
   "execution_count": null,
   "id": "521768d9",
   "metadata": {},
   "outputs": [],
   "source": [
    "import os\n",
    "from pdfminer.high_level import extract_text\n",
    "import camelot\n",
    "import tabula\n",
    "from pdf2image import convert_from_path\n",
    "import pytesseract\n",
    "import pandas as pd\n",
    "\n",
    "def extract_tables_from_pdf(pdf_path, output_dir=\"output_tables\"):\n",
    "    os.makedirs(output_dir, exist_ok=True)\n",
    "\n",
    "    # Step 1: Detect if PDF is scanned or digital\n",
    "    text = extract_text(pdf_path)\n",
    "    is_scanned = not text.strip()\n",
    "\n",
    "    all_tables = []\n",
    "\n",
    "    if not is_scanned:\n",
    "        # Step 2a: Try Camelot first\n",
    "        try:\n",
    "            tables = camelot.read_pdf(pdf_path, pages=\"all\", flavor=\"lattice\")\n",
    "            if len(tables) == 0:\n",
    "                tables = camelot.read_pdf(pdf_path, pages=\"all\", flavor=\"stream\")\n",
    "            for table in tables:\n",
    "                df = table.df\n",
    "                all_tables.append(df)\n",
    "        except Exception:\n",
    "            # Fallback to Tabula\n",
    "            dfs = tabula.read_pdf(pdf_path, pages=\"all\", multiple_tables=True)\n",
    "            all_tables.extend(dfs)\n",
    "    else:\n",
    "        # Step 2b: OCR for scanned PDFs\n",
    "        images = convert_from_path(pdf_path)\n",
    "        for page_num, image in enumerate(images, start=1):\n",
    "            text = pytesseract.image_to_string(image, config=\"--psm 6\")\n",
    "            # Basic text-based parsing (can be LLM-refined later)\n",
    "            lines = [line.strip() for line in text.split(\"\\n\") if line.strip()]\n",
    "            df = pd.DataFrame(lines, columns=[\"raw_text\"])\n",
    "            all_tables.append(df)\n",
    "    return all_tables\n",
    "\n",
    "def convert_tables_into_json(tables):\n",
    "    prompt= f\"Convert the following semi-structured text into a clean JSON table with proper headers: {tables}\"\n",
    "    response = llm.generate_content(prompt)\n",
    "    return response.text"
   ]
  },
  {
   "cell_type": "code",
   "execution_count": 26,
   "id": "6316c0bf",
   "metadata": {},
   "outputs": [
    {
     "name": "stderr",
     "output_type": "stream",
     "text": [
      "E0000 00:00:1760623902.883975 1419050 alts_credentials.cc:93] ALTS creds ignored. Not running on GCP and untrusted ALTS is not enabled.\n"
     ]
    }
   ],
   "source": [
    "pdf_path = \"pizza meat-meat.pdf\"\n",
    "tables = extract_tables_from_pdf(pdf_path)\n",
    "table_json = convert_tables_into_json(tables)"
   ]
  },
  {
   "cell_type": "code",
   "execution_count": 6,
   "id": "76729f8d",
   "metadata": {},
   "outputs": [],
   "source": [
    "import pdfplumber\n",
    "\n",
    "def extract_text_only(pdf_path, output_txt=\"output_text.txt\"):\n",
    "    # Detect if PDF is scanned or digital\n",
    "    text = extract_text(pdf_path)\n",
    "    is_scanned = not text.strip()\n",
    "\n",
    "    extracted_text = \"\"\n",
    "\n",
    "    if not is_scanned:\n",
    "        # Digital PDF — use pdfplumber for accurate text layout\n",
    "        with pdfplumber.open(pdf_path) as pdf:\n",
    "            for page in pdf.pages:\n",
    "                page_text = page.extract_text(layout=True) or \"\"\n",
    "                extracted_text += page_text + \"\\n\"\n",
    "    else:\n",
    "        # Scanned PDF — use OCR\n",
    "        images = convert_from_path(pdf_path)\n",
    "        for img in images:\n",
    "            page_text = pytesseract.image_to_string(img, lang=\"eng\")\n",
    "            extracted_text += page_text + \"\\n\"\n",
    "\n",
    "    # Clean up text (remove extra blank lines)\n",
    "    cleaned_text = \"\\n\".join([line.strip() for line in extracted_text.splitlines() if line.strip()])\n",
    "    return cleaned_text\n"
   ]
  },
  {
   "cell_type": "code",
   "execution_count": null,
   "id": "38d4c979",
   "metadata": {},
   "outputs": [],
   "source": [
    "# pdf_path = \"pizza meat-meat.pdf\"\n",
    "# extracted_text = extract_text_only(pdf_path)\n",
    "# prompt= f\"how much onion is used in this pizza: {extracted_text}\"\n",
    "# response = llm.generate_content(prompt)\n",
    "# print(response.text)"
   ]
  },
  {
   "cell_type": "code",
   "execution_count": null,
   "id": "5b77cb88",
   "metadata": {},
   "outputs": [],
   "source": []
  },
  {
   "cell_type": "markdown",
   "id": "37dd23ec",
   "metadata": {},
   "source": [
    "### RAG part"
   ]
  },
  {
   "cell_type": "code",
   "execution_count": 4,
   "id": "0d56062c",
   "metadata": {},
   "outputs": [],
   "source": [
    "texts = df.apply(lambda row: \" | \".join(row.astype(str)), axis=1).tolist()"
   ]
  },
  {
   "cell_type": "code",
   "execution_count": 9,
   "id": "02a805fa",
   "metadata": {},
   "outputs": [
    {
     "name": "stderr",
     "output_type": "stream",
     "text": [
      "/var/folders/fq/kw01t_k11fj5jbq17f737nsw0000gn/T/ipykernel_22698/935879719.py:1: UserWarning: DataFrame columns are not unique, some columns will be omitted.\n",
      "  json = df.to_dict(orient=\"records\")\n"
     ]
    }
   ],
   "source": [
    "json = df.to_dict(orient=\"records\")"
   ]
  },
  {
   "cell_type": "code",
   "execution_count": 10,
   "id": "2768e7c3",
   "metadata": {},
   "outputs": [
    {
     "name": "stderr",
     "output_type": "stream",
     "text": [
      "C:\\Users\\Emil.Javadli\\AppData\\Roaming\\Python\\Python311\\site-packages\\tqdm\\auto.py:21: TqdmWarning: IProgress not found. Please update jupyter and ipywidgets. See https://ipywidgets.readthedocs.io/en/stable/user_install.html\n",
      "  from .autonotebook import tqdm as notebook_tqdm\n"
     ]
    }
   ],
   "source": [
    "from embed_store import build_faiss_index, get_embeddings\n",
    "import faiss"
   ]
  },
  {
   "cell_type": "code",
   "execution_count": 18,
   "id": "e6270cd1",
   "metadata": {},
   "outputs": [
    {
     "data": {
      "text/plain": [
       "{'Pizza Name': 'Margherita',\n",
       " 'Crust\\nType': 'Thin',\n",
       " 'Sauce': 'Tomato',\n",
       " 'Cheese': 'Mozzarella',\n",
       " 'Toppings': 'Basil'}"
      ]
     },
     "execution_count": 18,
     "metadata": {},
     "output_type": "execute_result"
    }
   ],
   "source": [
    "json[0]"
   ]
  },
  {
   "cell_type": "code",
   "execution_count": 20,
   "id": "0fcba3fa",
   "metadata": {},
   "outputs": [
    {
     "data": {
      "text/plain": [
       "array([[-0.0038396 ,  0.07903948, -0.11241125, ..., -0.01579538,\n",
       "         0.0650669 ,  0.05390403],\n",
       "       [-0.07182054,  0.02036707, -0.05242678, ...,  0.0403441 ,\n",
       "         0.07116739,  0.0442771 ],\n",
       "       [-0.01778399,  0.00353835, -0.07590371, ...,  0.01286497,\n",
       "        -0.03862418, -0.00466059],\n",
       "       ...,\n",
       "       [-0.07004339, -0.06089054, -0.05413391, ...,  0.0301772 ,\n",
       "         0.03380238,  0.06286311],\n",
       "       [ 0.03541187,  0.04458203, -0.02035068, ...,  0.03373704,\n",
       "         0.02461265, -0.04009247],\n",
       "       [ 0.04753882, -0.0023236 , -0.0302921 , ...,  0.0099019 ,\n",
       "         0.10350329, -0.00841073]], dtype=float32)"
      ]
     },
     "execution_count": 20,
     "metadata": {},
     "output_type": "execute_result"
    }
   ],
   "source": [
    "get_embeddings(json)"
   ]
  },
  {
   "cell_type": "code",
   "execution_count": 22,
   "id": "424d93f3",
   "metadata": {},
   "outputs": [],
   "source": [
    "from rag_pipeline import retrieve_context, generate_answer"
   ]
  },
  {
   "cell_type": "code",
   "execution_count": 26,
   "id": "3aeffdb7",
   "metadata": {},
   "outputs": [],
   "source": [
    "index = build_faiss_index(json)"
   ]
  },
  {
   "cell_type": "code",
   "execution_count": 31,
   "id": "2b178438",
   "metadata": {},
   "outputs": [
    {
     "data": {
      "text/plain": [
       "(array([[0.47110212, 0.34942874, 0.34083316]], dtype=float32),\n",
       " array([[1, 0, 6]], dtype=int64))"
      ]
     },
     "execution_count": 31,
     "metadata": {},
     "output_type": "execute_result"
    }
   ],
   "source": [
    "index.search(get_embeddings([json]), 3)"
   ]
  },
  {
   "cell_type": "code",
   "execution_count": 28,
   "id": "3ca20a05",
   "metadata": {},
   "outputs": [
    {
     "data": {
      "text/plain": [
       "[{'Pizza Name': 'Margherita',\n",
       "  'Crust\\nType': 'Thin',\n",
       "  'Sauce': 'Tomato',\n",
       "  'Cheese': 'Mozzarella',\n",
       "  'Toppings': 'Basil'},\n",
       " {'Pizza Name': 'Pepperoni',\n",
       "  'Crust\\nType': 'Classic',\n",
       "  'Sauce': 'Tomato',\n",
       "  'Cheese': 'Mozzarella',\n",
       "  'Toppings': 'Pepperoni'},\n",
       " {'Pizza Name': 'Mushroom\\nTruffle',\n",
       "  'Crust\\nType': 'Thin',\n",
       "  'Sauce': 'White\\nSauce',\n",
       "  'Cheese': 'Mozzarella',\n",
       "  'Toppings': 'Mushrooms, Truffle Oil'},\n",
       " {'Pizza Name': 'Veggie\\nSupreme',\n",
       "  'Crust\\nType': 'Whole\\nWheat',\n",
       "  'Sauce': 'Tomato',\n",
       "  'Cheese': 'Mozzarella',\n",
       "  'Toppings': 'Bell Peppers, Olives, Mushrooms, Onions'},\n",
       " {'Pizza Name': 'Four Cheese',\n",
       "  'Crust\\nType': 'Thin',\n",
       "  'Sauce': 'Tomato',\n",
       "  'Cheese': 'Mozzarella,\\nParmesan,\\nGorgonzola,\\nRicotta',\n",
       "  'Toppings': '—'}]"
      ]
     },
     "execution_count": 28,
     "metadata": {},
     "output_type": "execute_result"
    }
   ],
   "source": [
    "retrieve_context(\"What are the main ingredients in a Margherita pizza?\", index, json, k=5)"
   ]
  }
 ],
 "metadata": {
  "kernelspec": {
   "display_name": ".venv",
   "language": "python",
   "name": "python3"
  },
  "language_info": {
   "codemirror_mode": {
    "name": "ipython",
    "version": 3
   },
   "file_extension": ".py",
   "mimetype": "text/x-python",
   "name": "python",
   "nbconvert_exporter": "python",
   "pygments_lexer": "ipython3",
   "version": "3.12.8"
  }
 },
 "nbformat": 4,
 "nbformat_minor": 5
}
